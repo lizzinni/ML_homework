{
 "cells": [
  {
   "cell_type": "markdown",
   "source": [
    "# Easy"
   ],
   "metadata": {
    "collapsed": false
   }
  },
  {
   "cell_type": "code",
   "execution_count": 14,
   "outputs": [
    {
     "data": {
      "text/plain": "   0     1     2     3     4     5     6     7     8     9     ...  3062  \\\n0    28    25    24    27    24    23    27    24    22    27  ...    22   \n1    28    24    24    26    23    23    27    24    24    28  ...    22   \n2    29    25    25    29    26    26    30    27    27    30  ...    22   \n3    31    28    26    29    26    24    30    27    26    29  ...    22   \n4    33    27    25    31    25    24    32    26    25    31  ...    21   \n\n   3063  3064  3065  3066  3067  3068  3069  3070  3071  \n0    27    24    22    27    23    21    26    22    20  \n1    27    23    22    27    24    23    29    26    25  \n2    29    25    23    28    24    22    30    26    24  \n3    28    23    22    27    23    22    27    23    21  \n4    25    22    20    26    22    19    27    22    19  \n\n[5 rows x 3072 columns]",
      "text/html": "<div>\n<style scoped>\n    .dataframe tbody tr th:only-of-type {\n        vertical-align: middle;\n    }\n\n    .dataframe tbody tr th {\n        vertical-align: top;\n    }\n\n    .dataframe thead th {\n        text-align: right;\n    }\n</style>\n<table border=\"1\" class=\"dataframe\">\n  <thead>\n    <tr style=\"text-align: right;\">\n      <th></th>\n      <th>0</th>\n      <th>1</th>\n      <th>2</th>\n      <th>3</th>\n      <th>4</th>\n      <th>5</th>\n      <th>6</th>\n      <th>7</th>\n      <th>8</th>\n      <th>9</th>\n      <th>...</th>\n      <th>3062</th>\n      <th>3063</th>\n      <th>3064</th>\n      <th>3065</th>\n      <th>3066</th>\n      <th>3067</th>\n      <th>3068</th>\n      <th>3069</th>\n      <th>3070</th>\n      <th>3071</th>\n    </tr>\n  </thead>\n  <tbody>\n    <tr>\n      <th>0</th>\n      <td>28</td>\n      <td>25</td>\n      <td>24</td>\n      <td>27</td>\n      <td>24</td>\n      <td>23</td>\n      <td>27</td>\n      <td>24</td>\n      <td>22</td>\n      <td>27</td>\n      <td>...</td>\n      <td>22</td>\n      <td>27</td>\n      <td>24</td>\n      <td>22</td>\n      <td>27</td>\n      <td>23</td>\n      <td>21</td>\n      <td>26</td>\n      <td>22</td>\n      <td>20</td>\n    </tr>\n    <tr>\n      <th>1</th>\n      <td>28</td>\n      <td>24</td>\n      <td>24</td>\n      <td>26</td>\n      <td>23</td>\n      <td>23</td>\n      <td>27</td>\n      <td>24</td>\n      <td>24</td>\n      <td>28</td>\n      <td>...</td>\n      <td>22</td>\n      <td>27</td>\n      <td>23</td>\n      <td>22</td>\n      <td>27</td>\n      <td>24</td>\n      <td>23</td>\n      <td>29</td>\n      <td>26</td>\n      <td>25</td>\n    </tr>\n    <tr>\n      <th>2</th>\n      <td>29</td>\n      <td>25</td>\n      <td>25</td>\n      <td>29</td>\n      <td>26</td>\n      <td>26</td>\n      <td>30</td>\n      <td>27</td>\n      <td>27</td>\n      <td>30</td>\n      <td>...</td>\n      <td>22</td>\n      <td>29</td>\n      <td>25</td>\n      <td>23</td>\n      <td>28</td>\n      <td>24</td>\n      <td>22</td>\n      <td>30</td>\n      <td>26</td>\n      <td>24</td>\n    </tr>\n    <tr>\n      <th>3</th>\n      <td>31</td>\n      <td>28</td>\n      <td>26</td>\n      <td>29</td>\n      <td>26</td>\n      <td>24</td>\n      <td>30</td>\n      <td>27</td>\n      <td>26</td>\n      <td>29</td>\n      <td>...</td>\n      <td>22</td>\n      <td>28</td>\n      <td>23</td>\n      <td>22</td>\n      <td>27</td>\n      <td>23</td>\n      <td>22</td>\n      <td>27</td>\n      <td>23</td>\n      <td>21</td>\n    </tr>\n    <tr>\n      <th>4</th>\n      <td>33</td>\n      <td>27</td>\n      <td>25</td>\n      <td>31</td>\n      <td>25</td>\n      <td>24</td>\n      <td>32</td>\n      <td>26</td>\n      <td>25</td>\n      <td>31</td>\n      <td>...</td>\n      <td>21</td>\n      <td>25</td>\n      <td>22</td>\n      <td>20</td>\n      <td>26</td>\n      <td>22</td>\n      <td>19</td>\n      <td>27</td>\n      <td>22</td>\n      <td>19</td>\n    </tr>\n  </tbody>\n</table>\n<p>5 rows × 3072 columns</p>\n</div>"
     },
     "execution_count": 14,
     "metadata": {},
     "output_type": "execute_result"
    }
   ],
   "source": [
    "import pandas as pd\n",
    "\n",
    "train = pd.read_pickle('../data/train.pickle')\n",
    "dataframe_train = pd.DataFrame(train['features'].reshape(train['features'].shape[0], -1))\n",
    "dataframe_train.head()"
   ],
   "metadata": {
    "collapsed": false,
    "ExecuteTime": {
     "end_time": "2024-03-13T21:12:51.583374Z",
     "start_time": "2024-03-13T21:12:51.514653Z"
    }
   }
  },
  {
   "cell_type": "code",
   "execution_count": 16,
   "outputs": [
    {
     "data": {
      "text/plain": "   0     1     2     3     4     5     6     7     8     9     ...  3062  \\\n0   116   139   174   116   137   171   118   138   172   117  ...   164   \n1    59    70    61    87    80    63    92    81    63    96  ...    58   \n2    52    40    38    51    39    37    50    38    37    50  ...    34   \n3   132   125    87   100    92    60    82    73    34    96  ...   152   \n4    37    34    30    42    38    32    46    40    36    44  ...    35   \n\n   3063  3064  3065  3066  3067  3068  3069  3070  3071  \n0   115   138   167   117   138   167   114   140   170  \n1    62    59    62    73    67    70    75    70    70  \n2    41    40    38    44    43    43    47    46    44  \n3   235   239   196   255   251   217   255   240   180  \n4    46    41    38    48    43    40    49    45    42  \n\n[5 rows x 3072 columns]",
      "text/html": "<div>\n<style scoped>\n    .dataframe tbody tr th:only-of-type {\n        vertical-align: middle;\n    }\n\n    .dataframe tbody tr th {\n        vertical-align: top;\n    }\n\n    .dataframe thead th {\n        text-align: right;\n    }\n</style>\n<table border=\"1\" class=\"dataframe\">\n  <thead>\n    <tr style=\"text-align: right;\">\n      <th></th>\n      <th>0</th>\n      <th>1</th>\n      <th>2</th>\n      <th>3</th>\n      <th>4</th>\n      <th>5</th>\n      <th>6</th>\n      <th>7</th>\n      <th>8</th>\n      <th>9</th>\n      <th>...</th>\n      <th>3062</th>\n      <th>3063</th>\n      <th>3064</th>\n      <th>3065</th>\n      <th>3066</th>\n      <th>3067</th>\n      <th>3068</th>\n      <th>3069</th>\n      <th>3070</th>\n      <th>3071</th>\n    </tr>\n  </thead>\n  <tbody>\n    <tr>\n      <th>0</th>\n      <td>116</td>\n      <td>139</td>\n      <td>174</td>\n      <td>116</td>\n      <td>137</td>\n      <td>171</td>\n      <td>118</td>\n      <td>138</td>\n      <td>172</td>\n      <td>117</td>\n      <td>...</td>\n      <td>164</td>\n      <td>115</td>\n      <td>138</td>\n      <td>167</td>\n      <td>117</td>\n      <td>138</td>\n      <td>167</td>\n      <td>114</td>\n      <td>140</td>\n      <td>170</td>\n    </tr>\n    <tr>\n      <th>1</th>\n      <td>59</td>\n      <td>70</td>\n      <td>61</td>\n      <td>87</td>\n      <td>80</td>\n      <td>63</td>\n      <td>92</td>\n      <td>81</td>\n      <td>63</td>\n      <td>96</td>\n      <td>...</td>\n      <td>58</td>\n      <td>62</td>\n      <td>59</td>\n      <td>62</td>\n      <td>73</td>\n      <td>67</td>\n      <td>70</td>\n      <td>75</td>\n      <td>70</td>\n      <td>70</td>\n    </tr>\n    <tr>\n      <th>2</th>\n      <td>52</td>\n      <td>40</td>\n      <td>38</td>\n      <td>51</td>\n      <td>39</td>\n      <td>37</td>\n      <td>50</td>\n      <td>38</td>\n      <td>37</td>\n      <td>50</td>\n      <td>...</td>\n      <td>34</td>\n      <td>41</td>\n      <td>40</td>\n      <td>38</td>\n      <td>44</td>\n      <td>43</td>\n      <td>43</td>\n      <td>47</td>\n      <td>46</td>\n      <td>44</td>\n    </tr>\n    <tr>\n      <th>3</th>\n      <td>132</td>\n      <td>125</td>\n      <td>87</td>\n      <td>100</td>\n      <td>92</td>\n      <td>60</td>\n      <td>82</td>\n      <td>73</td>\n      <td>34</td>\n      <td>96</td>\n      <td>...</td>\n      <td>152</td>\n      <td>235</td>\n      <td>239</td>\n      <td>196</td>\n      <td>255</td>\n      <td>251</td>\n      <td>217</td>\n      <td>255</td>\n      <td>240</td>\n      <td>180</td>\n    </tr>\n    <tr>\n      <th>4</th>\n      <td>37</td>\n      <td>34</td>\n      <td>30</td>\n      <td>42</td>\n      <td>38</td>\n      <td>32</td>\n      <td>46</td>\n      <td>40</td>\n      <td>36</td>\n      <td>44</td>\n      <td>...</td>\n      <td>35</td>\n      <td>46</td>\n      <td>41</td>\n      <td>38</td>\n      <td>48</td>\n      <td>43</td>\n      <td>40</td>\n      <td>49</td>\n      <td>45</td>\n      <td>42</td>\n    </tr>\n  </tbody>\n</table>\n<p>5 rows × 3072 columns</p>\n</div>"
     },
     "execution_count": 16,
     "metadata": {},
     "output_type": "execute_result"
    }
   ],
   "source": [
    "test = pd.read_pickle('../data/test.pickle')\n",
    "dataframe_test = pd.DataFrame(test['features'].reshape(test['features'].shape[0], -1))\n",
    "dataframe_test.head()"
   ],
   "metadata": {
    "collapsed": false,
    "ExecuteTime": {
     "end_time": "2024-03-13T21:13:46.648393Z",
     "start_time": "2024-03-13T21:13:46.604362Z"
    }
   }
  },
  {
   "cell_type": "code",
   "execution_count": 20,
   "outputs": [
    {
     "name": "stderr",
     "output_type": "stream",
     "text": [
      "/Users/elizabeth/anaconda3/lib/python3.11/site-packages/sklearn/linear_model/_logistic.py:460: ConvergenceWarning: lbfgs failed to converge (status=1):\n",
      "STOP: TOTAL NO. of ITERATIONS REACHED LIMIT.\n",
      "\n",
      "Increase the number of iterations (max_iter) or scale the data as shown in:\n",
      "    https://scikit-learn.org/stable/modules/preprocessing.html\n",
      "Please also refer to the documentation for alternative solver options:\n",
      "    https://scikit-learn.org/stable/modules/linear_model.html#logistic-regression\n",
      "  n_iter_i = _check_optimize_result(\n"
     ]
    },
    {
     "data": {
      "text/plain": "LogisticRegression(max_iter=500)",
      "text/html": "<style>#sk-container-id-2 {color: black;}#sk-container-id-2 pre{padding: 0;}#sk-container-id-2 div.sk-toggleable {background-color: white;}#sk-container-id-2 label.sk-toggleable__label {cursor: pointer;display: block;width: 100%;margin-bottom: 0;padding: 0.3em;box-sizing: border-box;text-align: center;}#sk-container-id-2 label.sk-toggleable__label-arrow:before {content: \"▸\";float: left;margin-right: 0.25em;color: #696969;}#sk-container-id-2 label.sk-toggleable__label-arrow:hover:before {color: black;}#sk-container-id-2 div.sk-estimator:hover label.sk-toggleable__label-arrow:before {color: black;}#sk-container-id-2 div.sk-toggleable__content {max-height: 0;max-width: 0;overflow: hidden;text-align: left;background-color: #f0f8ff;}#sk-container-id-2 div.sk-toggleable__content pre {margin: 0.2em;color: black;border-radius: 0.25em;background-color: #f0f8ff;}#sk-container-id-2 input.sk-toggleable__control:checked~div.sk-toggleable__content {max-height: 200px;max-width: 100%;overflow: auto;}#sk-container-id-2 input.sk-toggleable__control:checked~label.sk-toggleable__label-arrow:before {content: \"▾\";}#sk-container-id-2 div.sk-estimator input.sk-toggleable__control:checked~label.sk-toggleable__label {background-color: #d4ebff;}#sk-container-id-2 div.sk-label input.sk-toggleable__control:checked~label.sk-toggleable__label {background-color: #d4ebff;}#sk-container-id-2 input.sk-hidden--visually {border: 0;clip: rect(1px 1px 1px 1px);clip: rect(1px, 1px, 1px, 1px);height: 1px;margin: -1px;overflow: hidden;padding: 0;position: absolute;width: 1px;}#sk-container-id-2 div.sk-estimator {font-family: monospace;background-color: #f0f8ff;border: 1px dotted black;border-radius: 0.25em;box-sizing: border-box;margin-bottom: 0.5em;}#sk-container-id-2 div.sk-estimator:hover {background-color: #d4ebff;}#sk-container-id-2 div.sk-parallel-item::after {content: \"\";width: 100%;border-bottom: 1px solid gray;flex-grow: 1;}#sk-container-id-2 div.sk-label:hover label.sk-toggleable__label {background-color: #d4ebff;}#sk-container-id-2 div.sk-serial::before {content: \"\";position: absolute;border-left: 1px solid gray;box-sizing: border-box;top: 0;bottom: 0;left: 50%;z-index: 0;}#sk-container-id-2 div.sk-serial {display: flex;flex-direction: column;align-items: center;background-color: white;padding-right: 0.2em;padding-left: 0.2em;position: relative;}#sk-container-id-2 div.sk-item {position: relative;z-index: 1;}#sk-container-id-2 div.sk-parallel {display: flex;align-items: stretch;justify-content: center;background-color: white;position: relative;}#sk-container-id-2 div.sk-item::before, #sk-container-id-2 div.sk-parallel-item::before {content: \"\";position: absolute;border-left: 1px solid gray;box-sizing: border-box;top: 0;bottom: 0;left: 50%;z-index: -1;}#sk-container-id-2 div.sk-parallel-item {display: flex;flex-direction: column;z-index: 1;position: relative;background-color: white;}#sk-container-id-2 div.sk-parallel-item:first-child::after {align-self: flex-end;width: 50%;}#sk-container-id-2 div.sk-parallel-item:last-child::after {align-self: flex-start;width: 50%;}#sk-container-id-2 div.sk-parallel-item:only-child::after {width: 0;}#sk-container-id-2 div.sk-dashed-wrapped {border: 1px dashed gray;margin: 0 0.4em 0.5em 0.4em;box-sizing: border-box;padding-bottom: 0.4em;background-color: white;}#sk-container-id-2 div.sk-label label {font-family: monospace;font-weight: bold;display: inline-block;line-height: 1.2em;}#sk-container-id-2 div.sk-label-container {text-align: center;}#sk-container-id-2 div.sk-container {/* jupyter's `normalize.less` sets `[hidden] { display: none; }` but bootstrap.min.css set `[hidden] { display: none !important; }` so we also need the `!important` here to be able to override the default hidden behavior on the sphinx rendered scikit-learn.org. See: https://github.com/scikit-learn/scikit-learn/issues/21755 */display: inline-block !important;position: relative;}#sk-container-id-2 div.sk-text-repr-fallback {display: none;}</style><div id=\"sk-container-id-2\" class=\"sk-top-container\"><div class=\"sk-text-repr-fallback\"><pre>LogisticRegression(max_iter=500)</pre><b>In a Jupyter environment, please rerun this cell to show the HTML representation or trust the notebook. <br />On GitHub, the HTML representation is unable to render, please try loading this page with nbviewer.org.</b></div><div class=\"sk-container\" hidden><div class=\"sk-item\"><div class=\"sk-estimator sk-toggleable\"><input class=\"sk-toggleable__control sk-hidden--visually\" id=\"sk-estimator-id-2\" type=\"checkbox\" checked><label for=\"sk-estimator-id-2\" class=\"sk-toggleable__label sk-toggleable__label-arrow\">LogisticRegression</label><div class=\"sk-toggleable__content\"><pre>LogisticRegression(max_iter=500)</pre></div></div></div></div></div>"
     },
     "execution_count": 20,
     "metadata": {},
     "output_type": "execute_result"
    }
   ],
   "source": [
    "from sklearn.linear_model import LogisticRegression\n",
    "\n",
    "model = LogisticRegression(max_iter=500)\n",
    "model.fit(dataframe_train, train['labels'])"
   ],
   "metadata": {
    "collapsed": false,
    "ExecuteTime": {
     "end_time": "2024-03-13T21:27:51.891337Z",
     "start_time": "2024-03-13T21:24:34.670410Z"
    }
   }
  },
  {
   "cell_type": "code",
   "execution_count": 21,
   "outputs": [
    {
     "name": "stdout",
     "output_type": "stream",
     "text": [
      "Accuracy: 0.8434679334916865\n",
      "Precision: 0.777472725304879\n",
      "Recall: 0.810423128479271\n"
     ]
    }
   ],
   "source": [
    "from sklearn.metrics import accuracy_score, precision_score, recall_score\n",
    "\n",
    "y_pred = model.predict(dataframe_test)\n",
    "\n",
    "# Оценка качества модели с использованием метрик по данным из test.pickle\n",
    "accuracy = accuracy_score(y_pred, test['labels'])\n",
    "precision = precision_score(y_pred, test['labels'], average='macro')\n",
    "recall = recall_score(y_pred, test['labels'], average='macro')\n",
    "\n",
    "print(f\"Accuracy: {accuracy}\")\n",
    "print(f\"Precision: {precision}\")\n",
    "print(f\"Recall: {recall}\")"
   ],
   "metadata": {
    "collapsed": false,
    "ExecuteTime": {
     "end_time": "2024-03-13T21:34:47.704839Z",
     "start_time": "2024-03-13T21:34:47.540380Z"
    }
   }
  },
  {
   "cell_type": "code",
   "execution_count": 22,
   "outputs": [
    {
     "data": {
      "text/plain": "(43, 43)"
     },
     "execution_count": 22,
     "metadata": {},
     "output_type": "execute_result"
    }
   ],
   "source": [
    "from sklearn.metrics import confusion_matrix\n",
    "\n",
    "conf_matrix = confusion_matrix(y_pred, test['labels'])\n",
    "conf_matrix.shape"
   ],
   "metadata": {
    "collapsed": false,
    "ExecuteTime": {
     "end_time": "2024-03-13T21:39:04.717148Z",
     "start_time": "2024-03-13T21:39:04.707319Z"
    }
   }
  },
  {
   "cell_type": "code",
   "execution_count": 34,
   "outputs": [
    {
     "name": "stdout",
     "output_type": "stream",
     "text": [
      "('Speed limit (30km/h)', 'Speed limit (50km/h)')\n",
      "('Speed limit (30km/h)', 'Speed limit (70km/h)')\n",
      "('Speed limit (80km/h)', 'Speed limit (100km/h)')\n",
      "('Speed limit (50km/h)', 'Speed limit (80km/h)')\n",
      "('End of speed limit (80km/h)', 'Double curve')\n",
      "('Speed limit (70km/h)', 'No vehicles')\n",
      "('Speed limit (60km/h)', 'No passing')\n",
      "('Speed limit (100km/h)', 'Speed limit (120km/h)')\n",
      "('Speed limit (60km/h)', 'Speed limit (80km/h)')\n",
      "('Speed limit (50km/h)', 'No entry')\n",
      "('Speed limit (30km/h)', 'Speed limit (80km/h)')\n",
      "('Slippery road', 'Beware of ice/snow')\n",
      "('Speed limit (60km/h)', 'Keep right')\n",
      "('No passing', 'No vehicles')\n",
      "('Speed limit (100km/h)', 'Roundabout mandatory')\n",
      "('Speed limit (80km/h)', 'End of speed limit (80km/h)')\n",
      "('Speed limit (70km/h)', 'Traffic signals')\n",
      "('Speed limit (60km/h)', 'Speed limit (100km/h)')\n",
      "('Dangerous curve to the left', 'Road narrows on the right')\n",
      "('Dangerous curve to the left', 'Double curve')\n"
     ]
    }
   ],
   "source": [
    "conf_matrix = confusion_matrix(y_pred, test['labels'])\n",
    "errors = []  # сделали список с ошибками\n",
    "\n",
    "for i in range(len(conf_matrix)):\n",
    "    for j in range(i + 1, len(conf_matrix)):\n",
    "        errors.append((conf_matrix[i][j], i, j))\n",
    "\n",
    "errors.sort(reverse=True)\n",
    "most_errors = errors[:20]  # выведем 20 ошибок модели\n",
    "labelnames = pd.read_csv('../data/label_names.csv')\n",
    "for err in most_errors:\n",
    "    name_of_most_errors = (labelnames['SignName'].iloc[err[1]], labelnames['SignName'].iloc[err[2]])\n",
    "    print(name_of_most_errors)"
   ],
   "metadata": {
    "collapsed": false,
    "ExecuteTime": {
     "end_time": "2024-03-13T22:02:54.267528Z",
     "start_time": "2024-03-13T22:02:54.259246Z"
    }
   }
  },
  {
   "cell_type": "markdown",
   "source": [
    "##### Модель чаще всего путает скорость, то есть плохо распознает цифры"
   ],
   "metadata": {
    "collapsed": false
   }
  },
  {
   "cell_type": "markdown",
   "source": [
    "# Medium"
   ],
   "metadata": {
    "collapsed": false
   }
  },
  {
   "cell_type": "code",
   "execution_count": 65,
   "outputs": [],
   "source": [
    "from sklearn.svm import SVC\n",
    "from sklearn.naive_bayes import GaussianNB\n",
    "from sklearn.neighbors import KNeighborsClassifier\n",
    "from sklearn.metrics import f1_score"
   ],
   "metadata": {
    "collapsed": false,
    "ExecuteTime": {
     "end_time": "2024-03-14T20:15:10.180687Z",
     "start_time": "2024-03-14T20:15:10.173916Z"
    }
   }
  },
  {
   "cell_type": "code",
   "execution_count": 73,
   "outputs": [
    {
     "name": "stdout",
     "output_type": "stream",
     "text": [
      "training of Logistic Regression in process...\n",
      "training finished\n",
      "Logistic Regression \n",
      "{'accuracy': 0.8462391132224861, 'precision': 0.8511121516156515, 'recall': 0.8462391132224861, 'f1': 0.8450015707450316}\n"
     ]
    },
    {
     "name": "stderr",
     "output_type": "stream",
     "text": [
      "/Users/elizabeth/anaconda3/lib/python3.11/site-packages/sklearn/linear_model/_logistic.py:460: ConvergenceWarning: lbfgs failed to converge (status=1):\n",
      "STOP: TOTAL NO. of ITERATIONS REACHED LIMIT.\n",
      "\n",
      "Increase the number of iterations (max_iter) or scale the data as shown in:\n",
      "    https://scikit-learn.org/stable/modules/preprocessing.html\n",
      "Please also refer to the documentation for alternative solver options:\n",
      "    https://scikit-learn.org/stable/modules/linear_model.html#logistic-regression\n",
      "  n_iter_i = _check_optimize_result(\n"
     ]
    }
   ],
   "source": [
    "model = LogisticRegression(max_iter=200)\n",
    "print(f\"training of Logistic Regression in process...\")\n",
    "model.fit(dataframe_train, train['labels'])\n",
    "print(\"training finished\")\n",
    "y_pred = model.predict(dataframe_test)\n",
    "results = {'accuracy': accuracy_score(test['labels'], y_pred),\n",
    "                     'precision': precision_score(test['labels'], y_pred, average='weighted', zero_division=0),\n",
    "                     'recall': recall_score(test['labels'], y_pred, average='weighted'),\n",
    "                     'f1': f1_score(test['labels'], y_pred, average='weighted', zero_division=0)}\n",
    "print(f'Logistic Regression \\n{results}')"
   ],
   "metadata": {
    "collapsed": false,
    "ExecuteTime": {
     "end_time": "2024-03-14T21:14:38.892911Z",
     "start_time": "2024-03-14T21:13:17.433290Z"
    }
   }
  },
  {
   "cell_type": "code",
   "execution_count": 66,
   "outputs": [
    {
     "name": "stdout",
     "output_type": "stream",
     "text": [
      "training of NB in process...\n",
      "training finished\n",
      "NB \n",
      "{'accuracy': 0.11971496437054632, 'precision': 0.3369179056192524, 'recall': 0.11971496437054632, 'f1': 0.13146324342826704}\n"
     ]
    }
   ],
   "source": [
    "model = GaussianNB()\n",
    "print(f\"training of NB in process...\")\n",
    "model.fit(dataframe_train, train['labels'])\n",
    "print(\"training finished\")\n",
    "y_pred = model.predict(dataframe_test)\n",
    "results = {'accuracy': accuracy_score(test['labels'], y_pred),\n",
    "                     'precision': precision_score(test['labels'], y_pred, average='weighted', zero_division=0),\n",
    "                     'recall': recall_score(test['labels'], y_pred, average='weighted'),\n",
    "                     'f1': f1_score(test['labels'], y_pred, average='weighted', zero_division=0)}\n",
    "print(f'NB \\n{results}')"
   ],
   "metadata": {
    "collapsed": false,
    "ExecuteTime": {
     "end_time": "2024-03-14T20:16:54.080732Z",
     "start_time": "2024-03-14T20:16:47.938567Z"
    }
   }
  },
  {
   "cell_type": "code",
   "execution_count": 74,
   "outputs": [
    {
     "name": "stdout",
     "output_type": "stream",
     "text": [
      "training of SVM_rbf in process...\n"
     ]
    },
    {
     "name": "stderr",
     "output_type": "stream",
     "text": [
      "/Users/elizabeth/anaconda3/lib/python3.11/site-packages/sklearn/svm/_base.py:297: ConvergenceWarning: Solver terminated early (max_iter=200).  Consider pre-processing your data with StandardScaler or MinMaxScaler.\n",
      "  assert self.fit_status_ in (0, 1)\n"
     ]
    },
    {
     "name": "stdout",
     "output_type": "stream",
     "text": [
      "training finished\n",
      "SVM_rbf \n",
      "{'accuracy': 0.5581947743467933, 'precision': 0.5873957719050017, 'recall': 0.5581947743467933, 'f1': 0.5443641621503109}\n"
     ]
    }
   ],
   "source": [
    "model = SVC(kernel='rbf', max_iter=200)\n",
    "print(f\"training of SVM_rbf in process...\")\n",
    "model.fit(dataframe_train, train['labels'])\n",
    "print(\"training finished\")\n",
    "y_pred = model.predict(dataframe_test)\n",
    "results = {'accuracy': accuracy_score(test['labels'], y_pred),\n",
    "                     'precision': precision_score(test['labels'], y_pred, average='weighted', zero_division=0),\n",
    "                     'recall': recall_score(test['labels'], y_pred, average='weighted'),\n",
    "                     'f1': f1_score(test['labels'], y_pred, average='weighted', zero_division=0)}\n",
    "print(f'SVM_rbf \\n{results}')"
   ],
   "metadata": {
    "collapsed": false,
    "ExecuteTime": {
     "end_time": "2024-03-14T21:34:40.925532Z",
     "start_time": "2024-03-14T21:15:25.754577Z"
    }
   }
  },
  {
   "cell_type": "code",
   "execution_count": 75,
   "outputs": [
    {
     "name": "stdout",
     "output_type": "stream",
     "text": [
      "training of SVM_poly in process...\n"
     ]
    },
    {
     "name": "stderr",
     "output_type": "stream",
     "text": [
      "/Users/elizabeth/anaconda3/lib/python3.11/site-packages/sklearn/svm/_base.py:297: ConvergenceWarning: Solver terminated early (max_iter=200).  Consider pre-processing your data with StandardScaler or MinMaxScaler.\n",
      "  assert self.fit_status_ in (0, 1)\n"
     ]
    },
    {
     "name": "stdout",
     "output_type": "stream",
     "text": [
      "training finished\n",
      "SVM_poly \n",
      "{'accuracy': 0.26357878068091845, 'precision': 0.4748619164172877, 'recall': 0.26357878068091845, 'f1': 0.2745033824195049}\n"
     ]
    }
   ],
   "source": [
    "model = SVC(kernel='poly', max_iter=200)\n",
    "print(f\"training of SVM_poly in process...\")\n",
    "model.fit(dataframe_train, train['labels'])\n",
    "print(\"training finished\")\n",
    "y_pred = model.predict(dataframe_test)\n",
    "results = {'accuracy': accuracy_score(test['labels'], y_pred),\n",
    "                     'precision': precision_score(test['labels'], y_pred, average='weighted', zero_division=0),\n",
    "                     'recall': recall_score(test['labels'], y_pred, average='weighted'),\n",
    "                     'f1': f1_score(test['labels'], y_pred, average='weighted', zero_division=0)}\n",
    "print(f'SVM_poly \\n{results}')"
   ],
   "metadata": {
    "collapsed": false,
    "ExecuteTime": {
     "end_time": "2024-03-14T21:54:49.015335Z",
     "start_time": "2024-03-14T21:39:28.672408Z"
    }
   }
  },
  {
   "cell_type": "code",
   "execution_count": 76,
   "outputs": [
    {
     "name": "stdout",
     "output_type": "stream",
     "text": [
      "training of SVM_linear in process...\n"
     ]
    },
    {
     "name": "stderr",
     "output_type": "stream",
     "text": [
      "/Users/elizabeth/anaconda3/lib/python3.11/site-packages/sklearn/svm/_base.py:297: ConvergenceWarning: Solver terminated early (max_iter=200).  Consider pre-processing your data with StandardScaler or MinMaxScaler.\n",
      "  assert self.fit_status_ in (0, 1)\n"
     ]
    },
    {
     "name": "stdout",
     "output_type": "stream",
     "text": [
      "training finished\n",
      "SVM_linear \n",
      "{'accuracy': 0.7292161520190024, 'precision': 0.7461852845991985, 'recall': 0.7292161520190024, 'f1': 0.7299316466549948}\n"
     ]
    }
   ],
   "source": [
    "model = SVC(kernel='linear', max_iter=200)\n",
    "print(f\"training of SVM_linear in process...\")\n",
    "model.fit(dataframe_train, train['labels'])\n",
    "print(\"training finished\")\n",
    "y_pred = model.predict(dataframe_test)\n",
    "results = {'accuracy': accuracy_score(test['labels'], y_pred),\n",
    "                     'precision': precision_score(test['labels'], y_pred, average='weighted', zero_division=0),\n",
    "                     'recall': recall_score(test['labels'], y_pred, average='weighted'),\n",
    "                     'f1': f1_score(test['labels'], y_pred, average='weighted', zero_division=0)}\n",
    "print(f'SVM_linear \\n{results}')"
   ],
   "metadata": {
    "collapsed": false,
    "ExecuteTime": {
     "end_time": "2024-03-14T22:02:02.425333Z",
     "start_time": "2024-03-14T21:55:00.013612Z"
    }
   }
  },
  {
   "cell_type": "code",
   "execution_count": 78,
   "outputs": [
    {
     "name": "stdout",
     "output_type": "stream",
     "text": [
      "training of kNN in process...\n",
      "training finished\n",
      "kNN \n",
      "{'accuracy': 0.3847189231987332, 'precision': 0.423392251068593, 'recall': 0.3847189231987332, 'f1': 0.39095958617170934}\n"
     ]
    }
   ],
   "source": [
    "model = KNeighborsClassifier()\n",
    "print(f\"training of kNN in process...\")\n",
    "model.fit(dataframe_train, train['labels'])\n",
    "print(\"training finished\")\n",
    "y_pred = model.predict(dataframe_test.values)\n",
    "results = {'accuracy': accuracy_score(test['labels'], y_pred),\n",
    "                     'precision': precision_score(test['labels'], y_pred, average='weighted', zero_division=0),\n",
    "                     'recall': recall_score(test['labels'], y_pred, average='weighted'),\n",
    "                     'f1': f1_score(test['labels'], y_pred, average='weighted', zero_division=0)}\n",
    "print(f'kNN \\n{results}')"
   ],
   "metadata": {
    "collapsed": false,
    "ExecuteTime": {
     "end_time": "2024-03-14T22:04:55.618969Z",
     "start_time": "2024-03-14T22:04:37.881528Z"
    }
   }
  },
  {
   "cell_type": "markdown",
   "source": [
    "# Итоги\n",
    "1) Самые лучшие результаты у моделей svm_linear (accuracy ~ 0.72) и у логической регрессии (accuracy ~ 0.84)\n",
    "2) svm_poly и svm_rbf обучались дольше всего и имеют не очень хорошие результаты\n",
    "3) NB хорошо работает, если все признаки являются независимыми, а здесь это не выполнено, поэтому точность мала (accuracy ~ 0.11)\n",
    "4) kNN зависит от размерности данных"
   ],
   "metadata": {
    "collapsed": false
   }
  }
 ],
 "metadata": {
  "kernelspec": {
   "display_name": "Python 3",
   "language": "python",
   "name": "python3"
  },
  "language_info": {
   "codemirror_mode": {
    "name": "ipython",
    "version": 2
   },
   "file_extension": ".py",
   "mimetype": "text/x-python",
   "name": "python",
   "nbconvert_exporter": "python",
   "pygments_lexer": "ipython2",
   "version": "2.7.6"
  }
 },
 "nbformat": 4,
 "nbformat_minor": 0
}
