{
 "cells": [
  {
   "cell_type": "code",
   "execution_count": 6,
   "metadata": {
    "collapsed": true,
    "ExecuteTime": {
     "end_time": "2024-02-05T21:09:59.574185Z",
     "start_time": "2024-02-05T21:09:59.572392Z"
    }
   },
   "outputs": [
    {
     "name": "stdout",
     "output_type": "stream",
     "text": [
      "{'mean': 3.4285714285714284, 'median': 3, 'mode': 1}\n"
     ]
    }
   ],
   "source": [
    "def func(input_list):\n",
    "    mean = 0\n",
    "    for i in input_list:\n",
    "        mean = mean + i\n",
    "    mean = mean / len(input_list)\n",
    "    s_input_list = sorted(input_list)\n",
    "    if len(input_list) % 2 == 0:\n",
    "        median = (s_input_list[int((len(s_input_list) - 1) / 2)] + s_input_list[int((len(s_input_list) + 1) / 2)]) / 2\n",
    "    elif len(input_list) % 2 != 0:\n",
    "        median = s_input_list[int((len(input_list) - 1) / 2)]\n",
    "    a = {}\n",
    "    for i in input_list:\n",
    "        a[i] = a[i] + 1 if i in a else 1\n",
    "    mode = max(a, key=a.get)\n",
    "    res = {\"mean\": mean, \"median\": median, \"mode\": mode}\n",
    "    return res\n",
    "\n",
    "\n",
    "lst = [0, 1, 1, 10, 5, 4, 3]\n",
    "result = func(lst)\n",
    "print(result)"
   ]
  },
  {
   "cell_type": "code",
   "execution_count": 7,
   "outputs": [
    {
     "name": "stdout",
     "output_type": "stream",
     "text": [
      "больше всего ног у  Broodmother , количество ног =  8\n"
     ]
    }
   ],
   "source": [
    "def parse_csv(file_content):\n",
    "    rows = file_content.splitlines()\n",
    "    headers = rows[0].split(',')\n",
    "    data = []\n",
    "    for line in rows[1:]:\n",
    "        col = line.split(',')\n",
    "        values = col[:7]\n",
    "        # print(values)\n",
    "        last_col = ','.join(col[7:])\n",
    "        values.append(last_col)\n",
    "        d = dict(zip(headers, values))\n",
    "        data.append(d)\n",
    "    # print(data)\n",
    "    return data\n",
    "\n",
    "\n",
    "file_content = '../data/dota_hero_stats.csv'\n",
    "with open(file_content, 'r', encoding='utf-8') as csv_file:\n",
    "    file_name = csv_file.read()\n",
    "\n",
    "dota = parse_csv(file_name)\n",
    "max_leg = max(dota, key=lambda x: int(x['legs']))\n",
    "print(\"больше всего ног у \", max_leg['localized_name'], \", количество ног = \", max_leg['legs'])"
   ],
   "metadata": {
    "collapsed": false,
    "ExecuteTime": {
     "end_time": "2024-02-05T21:09:59.580085Z",
     "start_time": "2024-02-05T21:09:59.576474Z"
    }
   }
  }
 ],
 "metadata": {
  "kernelspec": {
   "display_name": "Python 3",
   "language": "python",
   "name": "python3"
  },
  "language_info": {
   "codemirror_mode": {
    "name": "ipython",
    "version": 2
   },
   "file_extension": ".py",
   "mimetype": "text/x-python",
   "name": "python",
   "nbconvert_exporter": "python",
   "pygments_lexer": "ipython2",
   "version": "2.7.6"
  }
 },
 "nbformat": 4,
 "nbformat_minor": 0
}
