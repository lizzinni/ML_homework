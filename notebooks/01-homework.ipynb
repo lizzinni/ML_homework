{
 "cells": [
  {
   "cell_type": "code",
   "execution_count": 43,
   "metadata": {
    "collapsed": true,
    "ExecuteTime": {
     "end_time": "2024-02-05T20:51:54.128302Z",
     "start_time": "2024-02-05T20:51:54.113913Z"
    }
   },
   "outputs": [
    {
     "name": "stdout",
     "output_type": "stream",
     "text": [
      "{'mean': 3.4285714285714284, 'median': 3, 'mode': 1}\n"
     ]
    }
   ],
   "source": [
    "def func(input_list):\n",
    "    mean = 0\n",
    "    for i in input_list:\n",
    "        mean = mean + i\n",
    "    mean = mean / len(input_list)\n",
    "    s_input_list = sorted(input_list)\n",
    "    if len(input_list) % 2 == 0:\n",
    "        median = (s_input_list[int((len(s_input_list) - 1) / 2)] + s_input_list[int((len(s_input_list) + 1) / 2)]) / 2\n",
    "    elif len(input_list) % 2 != 0:\n",
    "        median = s_input_list[int((len(input_list) - 1) / 2)]\n",
    "    a = {}\n",
    "    for i in input_list:\n",
    "        a[i] = a[i] + 1 if i in a else 1\n",
    "    mode = max(a, key=a.get)\n",
    "    res = {\"mean\": mean, \"median\": median, \"mode\": mode}\n",
    "    return res\n",
    "\n",
    "\n",
    "lst = [0, 1, 1, 10, 5, 4, 3]\n",
    "result = func(lst)\n",
    "print(result)\n"
   ]
  },
  {
   "cell_type": "code",
   "execution_count": null,
   "outputs": [],
   "source": [],
   "metadata": {
    "collapsed": false
   }
  }
 ],
 "metadata": {
  "kernelspec": {
   "display_name": "Python 3",
   "language": "python",
   "name": "python3"
  },
  "language_info": {
   "codemirror_mode": {
    "name": "ipython",
    "version": 2
   },
   "file_extension": ".py",
   "mimetype": "text/x-python",
   "name": "python",
   "nbconvert_exporter": "python",
   "pygments_lexer": "ipython2",
   "version": "2.7.6"
  }
 },
 "nbformat": 4,
 "nbformat_minor": 0
}
